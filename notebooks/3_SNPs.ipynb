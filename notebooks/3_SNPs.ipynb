{
  "cells": [
    {
      "cell_type": "markdown",
      "metadata": {
        "id": "view-in-github",
        "colab_type": "text"
      },
      "source": [
        "<a href=\"https://colab.research.google.com/github/MilagrosLG/GENOMICA/blob/main/notebooks/3_SNPs.ipynb\" target=\"_parent\"><img src=\"https://colab.research.google.com/assets/colab-badge.svg\" alt=\"Open In Colab\"/></a>"
      ]
    },
    {
      "cell_type": "markdown",
      "id": "e729fb62",
      "metadata": {
        "id": "e729fb62"
      },
      "source": [
        "\n",
        "# 🧬 Análisis básico de SNPs en plantas usando datos de NCBI\n",
        "\n",
        "Este notebook guía el análisis simple de SNPs del gen BRCA1 _Homo sapiens_ usando datos de NCBI. Objetivo: Aprender a recuperar datos de SNPs desde NCBI usando Biopython y realizar un análisis exploratorio básico."
      ]
    },
    {
      "cell_type": "markdown",
      "id": "c60a4910",
      "metadata": {
        "id": "c60a4910"
      },
      "source": [
        "## 📦  1. Importar librerías necesarias"
      ]
    },
    {
      "cell_type": "code",
      "execution_count": 1,
      "id": "52d6117d",
      "metadata": {
        "id": "52d6117d",
        "colab": {
          "base_uri": "https://localhost:8080/"
        },
        "outputId": "69dc8fc5-cfd8-4903-e469-b518f969f4de",
        "collapsed": true
      },
      "outputs": [
        {
          "output_type": "stream",
          "name": "stdout",
          "text": [
            "Collecting biopython\n",
            "  Downloading biopython-1.85-cp312-cp312-manylinux_2_17_x86_64.manylinux2014_x86_64.whl.metadata (13 kB)\n",
            "Requirement already satisfied: numpy in /usr/local/lib/python3.12/dist-packages (from biopython) (2.0.2)\n",
            "Downloading biopython-1.85-cp312-cp312-manylinux_2_17_x86_64.manylinux2014_x86_64.whl (3.3 MB)\n",
            "\u001b[?25l   \u001b[90m━━━━━━━━━━━━━━━━━━━━━━━━━━━━━━━━━━━━━━━━\u001b[0m \u001b[32m0.0/3.3 MB\u001b[0m \u001b[31m?\u001b[0m eta \u001b[36m-:--:--\u001b[0m\r\u001b[2K   \u001b[91m━━━━━━━━━━━━━━━━\u001b[0m\u001b[91m╸\u001b[0m\u001b[90m━━━━━━━━━━━━━━━━━━━━━━━\u001b[0m \u001b[32m1.4/3.3 MB\u001b[0m \u001b[31m39.9 MB/s\u001b[0m eta \u001b[36m0:00:01\u001b[0m\r\u001b[2K   \u001b[91m━━━━━━━━━━━━━━━━━━━━━━━━━━━━━━━━━━━━━━━\u001b[0m\u001b[91m╸\u001b[0m \u001b[32m3.3/3.3 MB\u001b[0m \u001b[31m50.9 MB/s\u001b[0m eta \u001b[36m0:00:01\u001b[0m\r\u001b[2K   \u001b[90m━━━━━━━━━━━━━━━━━━━━━━━━━━━━━━━━━━━━━━━━\u001b[0m \u001b[32m3.3/3.3 MB\u001b[0m \u001b[31m30.4 MB/s\u001b[0m eta \u001b[36m0:00:00\u001b[0m\n",
            "\u001b[?25hInstalling collected packages: biopython\n",
            "Successfully installed biopython-1.85\n"
          ]
        }
      ],
      "source": [
        "# 🔧 Librerías para acceder a NCBI y manejar datos\n",
        "\n",
        "# 📘 Instalación de Biopython\n",
        "!pip install biopython\n",
        "\n",
        "from Bio import Entrez\n",
        "import os\n",
        "import pandas as pd\n",
        "import xml.etree.ElementTree as ET\n",
        "import matplotlib.pyplot as plt\n",
        "\n",
        "# 📧 Configurar tu correo electrónico (requerido por NCBI)\n",
        "Entrez.email = \"milagrosleivagalarza@gmail.com\""
      ]
    },
    {
      "cell_type": "markdown",
      "source": [
        "## 🏵 2. Obtener la data necesaria"
      ],
      "metadata": {
        "id": "ylMRXnZpj4UB"
      },
      "id": "ylMRXnZpj4UB"
    },
    {
      "cell_type": "code",
      "source": [
        "# 🧪 Buscar SNPs en BRCA1 en humanos\n",
        "search_term = \"BRCA1 AND Homo sapiens[Organism]\"\n",
        "handle = Entrez.esearch(db=\"snp\", term=search_term, retmax=50)\n",
        "record = Entrez.read(handle)\n",
        "handle.close()\n",
        "\n",
        "# 📋 Mostrar los IDs encontrados\n",
        "snp_ids = record[\"IdList\"]\n",
        "print(\"🔎 SNP IDs encontrados:\", snp_ids)\n",
        "\n"
      ],
      "metadata": {
        "colab": {
          "base_uri": "https://localhost:8080/"
        },
        "id": "V03f7QynZKgz",
        "outputId": "0c0bf393-bb98-48ce-81e3-6a802d679e00"
      },
      "id": "V03f7QynZKgz",
      "execution_count": 18,
      "outputs": [
        {
          "output_type": "stream",
          "name": "stdout",
          "text": [
            "🔎 SNP IDs encontrados: ['2552282559', '2552281972', '2552281880', '2552281808', '2552281780', '2552281763', '2552281739', '2552281738', '2552281728', '2552281725', '2552281715', '2552281691', '2552281468', '2552281431', '2552281423', '2552281410', '2552281409', '2552281374', '2552281365', '2552281348', '2552281315', '2552281298', '2552281296', '2552281235', '2552281223', '2552281215', '2552281183', '2552281158', '2552281116', '2552281083', '2552281043', '2552281000', '2552280993', '2552280950', '2552280942', '2552280930', '2552280920', '2552280908', '2552280895', '2552280890', '2552280883', '2552280863', '2552280857', '2552280819', '2552280806', '2552280777', '2552280737', '2552280703', '2552280690', '2552280655']\n"
          ]
        }
      ]
    },
    {
      "cell_type": "markdown",
      "id": "d51f0e94",
      "metadata": {
        "id": "d51f0e94"
      },
      "source": [
        "\n",
        "## 📊 3. Obtención de SNPs y parseo de ellos\n"
      ]
    },
    {
      "cell_type": "code",
      "execution_count": 19,
      "id": "5b211b1b",
      "metadata": {
        "id": "5b211b1b",
        "colab": {
          "base_uri": "https://localhost:8080/"
        },
        "outputId": "5eb3aa77-e8df-489a-f558-2425749ec9ac"
      },
      "outputs": [
        {
          "output_type": "stream",
          "name": "stdout",
          "text": [
            "b'<?xml version=\"1.0\" ?>\\n<ExchangeSet xmlns:xsi=\"https://www.w3.org/2001/XMLSchema-instance\" xmlns=\"https://www.ncbi.nlm.nih.gov/SNP/docsum\" xsi:schemaLocation=\"https://www.ncbi.nlm.nih.gov/SNP/docsum ftp://ftp.ncbi.nlm.nih.gov/snp/specs/docsum_eutils.xsd\" ><DocumentSummary uid=\"2552282559\"><SNP_ID>2552282559</SNP_ID><ALLELE_ORIGIN/><GLOBAL_MAFS><MAF><STUDY>TOMMO</STUDY><FREQ>C=0.00001/1</FREQ></MAF></GLOBAL_MAFS><GLOBAL_POPULATION/><GLOBAL_SAMPLESIZE>0</GLOBAL_SAMPLESIZE><SUSPECTED/><CLINICAL_SIGNIFICANCE/><GENES><GENE_E><NAME>BRCA1</NAME><GENE_ID>672</GENE_ID></GENE_E><GENE_E><NAME>NBR2</NAME><GENE_ID>10230</GENE_ID></GENE_E></GENES><ACC>NC_000017.11</ACC><CHR>17</CHR><HANDLE>TOMMO_GENOMICS</HANDLE><SPDI>NC_000017.11:43127348:G:C</SPDI><FXN_CLASS>upstream_transcript_variant,2KB_upstream_variant,intron_variant</FXN_CLASS><VALIDATED>by-frequency</VALIDATED><DOCSUM>HGVS=NC_000017.11:g.43127349G&gt;C,NC_000017.10:g.41279366G&gt;C,NG_005905.2:g.90635C&gt;G,NG_056086.2:g.2955G&gt;C|SEQ=[G/C]'\n",
            "b'<?xml version=\"1.0\" ?>\\n<ExchangeSet xmlns:xsi=\"https://www.w3.org/2001/XMLSchema-instance\" xmlns=\"https://www.ncbi.nlm.nih.gov/SNP/docsum\" xsi:schemaLocation=\"https://www.ncbi.nlm.nih.gov/SNP/docsum ftp://ftp.ncbi.nlm.nih.gov/snp/specs/docsum_eutils.xsd\" ><DocumentSummary uid=\"2552282559\"><SNP_ID>2552282559</SNP_ID><ALLELE_ORIGIN/><GLOBAL_MAFS><MAF><STUDY>TOMMO</STUDY><FREQ>C=0.00001/1</FREQ></MAF></GLOBAL_MAFS><GLOBAL_POPULATION/><GLOBAL_SAMPLESIZE>0</GLOBAL_SAMPLESIZE><SUSPECTED/><CLINICAL_SIGNIFICANCE/><GENES><GENE_E><NAME>BRCA1</NAME><GENE_ID>672</GENE_ID></GENE_E><GENE_E><NAME>NBR2</NAME><GENE_ID>10230</GENE_ID></GENE_E></GENES><ACC>NC_000017.11</ACC><CHR>17</CHR><HANDLE>TOMMO_GENOMICS</HANDLE><SPDI>NC_000017.11:43127348:G:C</SPDI><FXN_CLASS>upstream_transcript_variant,2KB_upstream_variant,intron_variant</FXN_CLASS><VALIDATED>by-frequency</VALIDATED><DOCSUM>HGVS=NC_000017.11:g.43127349G&gt;C,NC_000017.10:g.41279366G&gt;C,NG_005905.2:g.90635C&gt;G,NG_056086.2:g.2955G&gt;C|SEQ=[G/C]|LEN=1|GENE=BRCA1:672,NBR2:10230</DOCSUM><TAX_ID>9606</TAX_ID><ORIG_BUILD>157</ORIG_BUILD><UPD_BUILD>157</UPD_BUILD><CREATEDATE>2024/11/03 19:28</CREATEDATE><UPDATEDATE>2024/11/03 19:28</UPDATEDATE><SS>6170309601</SS><ALLELE>S</ALLELE><SNP_CLASS>snv</SNP_CLASS><CHRPOS>17:43127349</CHRPOS><CHRPOS_PREV_ASSM>17:41279366</CHRPOS_PREV_ASSM><TEXT/><SNP_ID_SORT>2552282559</SNP_ID_SORT><CLINICAL_SORT>0</CLINICAL_SORT><CITED_SORT/><CHRPOS_SORT>0043127349</CHRPOS_SORT><MERGED_SORT>0</MERGED_SORT></DocumentSummary>\\n<DocumentSummary uid=\"2552281972\"><SNP_ID>2552281972</SNP_ID><ALLELE_ORIGIN/><GLOBAL_MAFS><MAF><STUDY>TOMMO</STUDY><FREQ>T=0.00003/2</FREQ></MAF></GLOBAL_MAFS><GLOBAL_POPULATION/><GLOBAL_SAMPLESIZE>0</GLOBAL_SAMPLESIZE><SUSPECTED/><CLINICAL_SIGNIFICANCE/><GENES><GENE_E><NAME>BRCA1</NAME><GENE_ID>672</GENE_ID></GENE_E><GENE_E><NAME>NBR2</NAME><GENE_ID>10230</GENE_ID></GENE_E></GENES><ACC>NC_000017.11</ACC><CHR>17</CHR><HANDLE>TOMMO_GENOMICS</HANDLE><SPDI>NC_000017.11:43127231:A:T</SPDI>'\n"
          ]
        }
      ],
      "source": [
        "# Obtener los SNP records\n",
        "if snp_ids:\n",
        " handle = Entrez.efetch(db=\"snp\", id=\",\".join(snp_ids), rettype=\"xml\")\n",
        " snp_data = handle.read()\n",
        " handle.close()\n",
        " print(snp_data[:1000])  # Ver los primeros 1000 characters\n",
        "\n",
        "print(snp_data[:2000])  # 👀 Vista previa del XML"
      ]
    },
    {
      "cell_type": "code",
      "source": [
        "# Parsear el XML correctamente\n",
        "root = ET.fromstring(snp_data)\n",
        "snp_info = []\n",
        "\n",
        "# Buscar cada resumen de SNP\n",
        "for doc in root.findall(\".//{https://www.ncbi.nlm.nih.gov/SNP/docsum}DocumentSummary\"):\n",
        "    snp_id = doc.find(\"{https://www.ncbi.nlm.nih.gov/SNP/docsum}SNP_ID\")\n",
        "    snp_class = doc.find(\"{https://www.ncbi.nlm.nih.gov/SNP/docsum}SNP_CLASS\")\n",
        "    chrpos = doc.find(\"{https://www.ncbi.nlm.nih.gov/SNP/docsum}CHRPOS\")\n",
        "    fxn_class = doc.find(\"{https://www.ncbi.nlm.nih.gov/SNP/docsum}FXN_CLASS\")\n",
        "\n",
        "    snp_info.append({\n",
        "        \"SNP_ID\": snp_id.text if snp_id is not None else None,\n",
        "        \"SNP_CLASS\": snp_class.text if snp_class is not None else None,\n",
        "        \"CHRPOS\": chrpos.text if chrpos is not None else None,\n",
        "        \"FXN_CLASS\": fxn_class.text if fxn_class is not None else None\n",
        "    })\n",
        "\n",
        "# Convertir a DataFrame\n",
        "df_snps = pd.DataFrame(snp_info)\n",
        "df_snps.head()\n"
      ],
      "metadata": {
        "colab": {
          "base_uri": "https://localhost:8080/",
          "height": 206
        },
        "id": "jGq92eqEc7KI",
        "outputId": "e9b70de1-e361-4d0f-daeb-1a3f5573834a"
      },
      "id": "jGq92eqEc7KI",
      "execution_count": 21,
      "outputs": [
        {
          "output_type": "execute_result",
          "data": {
            "text/plain": [
              "       SNP_ID SNP_CLASS       CHRPOS  \\\n",
              "0  2552282559       snv  17:43127349   \n",
              "1  2552281972       snv  17:43127232   \n",
              "2  2552281880       del  17:43127053   \n",
              "3  2552281808       snv  17:43126996   \n",
              "4  2552281780       snv  17:43126982   \n",
              "\n",
              "                                           FXN_CLASS  \n",
              "0  upstream_transcript_variant,2KB_upstream_varia...  \n",
              "1  upstream_transcript_variant,2KB_upstream_varia...  \n",
              "2  upstream_transcript_variant,2KB_upstream_varia...  \n",
              "3  upstream_transcript_variant,2KB_upstream_varia...  \n",
              "4  upstream_transcript_variant,2KB_upstream_varia...  "
            ],
            "text/html": [
              "\n",
              "  <div id=\"df-7395276f-9bfd-4f8e-9edb-1e30f8bd5aeb\" class=\"colab-df-container\">\n",
              "    <div>\n",
              "<style scoped>\n",
              "    .dataframe tbody tr th:only-of-type {\n",
              "        vertical-align: middle;\n",
              "    }\n",
              "\n",
              "    .dataframe tbody tr th {\n",
              "        vertical-align: top;\n",
              "    }\n",
              "\n",
              "    .dataframe thead th {\n",
              "        text-align: right;\n",
              "    }\n",
              "</style>\n",
              "<table border=\"1\" class=\"dataframe\">\n",
              "  <thead>\n",
              "    <tr style=\"text-align: right;\">\n",
              "      <th></th>\n",
              "      <th>SNP_ID</th>\n",
              "      <th>SNP_CLASS</th>\n",
              "      <th>CHRPOS</th>\n",
              "      <th>FXN_CLASS</th>\n",
              "    </tr>\n",
              "  </thead>\n",
              "  <tbody>\n",
              "    <tr>\n",
              "      <th>0</th>\n",
              "      <td>2552282559</td>\n",
              "      <td>snv</td>\n",
              "      <td>17:43127349</td>\n",
              "      <td>upstream_transcript_variant,2KB_upstream_varia...</td>\n",
              "    </tr>\n",
              "    <tr>\n",
              "      <th>1</th>\n",
              "      <td>2552281972</td>\n",
              "      <td>snv</td>\n",
              "      <td>17:43127232</td>\n",
              "      <td>upstream_transcript_variant,2KB_upstream_varia...</td>\n",
              "    </tr>\n",
              "    <tr>\n",
              "      <th>2</th>\n",
              "      <td>2552281880</td>\n",
              "      <td>del</td>\n",
              "      <td>17:43127053</td>\n",
              "      <td>upstream_transcript_variant,2KB_upstream_varia...</td>\n",
              "    </tr>\n",
              "    <tr>\n",
              "      <th>3</th>\n",
              "      <td>2552281808</td>\n",
              "      <td>snv</td>\n",
              "      <td>17:43126996</td>\n",
              "      <td>upstream_transcript_variant,2KB_upstream_varia...</td>\n",
              "    </tr>\n",
              "    <tr>\n",
              "      <th>4</th>\n",
              "      <td>2552281780</td>\n",
              "      <td>snv</td>\n",
              "      <td>17:43126982</td>\n",
              "      <td>upstream_transcript_variant,2KB_upstream_varia...</td>\n",
              "    </tr>\n",
              "  </tbody>\n",
              "</table>\n",
              "</div>\n",
              "    <div class=\"colab-df-buttons\">\n",
              "\n",
              "  <div class=\"colab-df-container\">\n",
              "    <button class=\"colab-df-convert\" onclick=\"convertToInteractive('df-7395276f-9bfd-4f8e-9edb-1e30f8bd5aeb')\"\n",
              "            title=\"Convert this dataframe to an interactive table.\"\n",
              "            style=\"display:none;\">\n",
              "\n",
              "  <svg xmlns=\"http://www.w3.org/2000/svg\" height=\"24px\" viewBox=\"0 -960 960 960\">\n",
              "    <path d=\"M120-120v-720h720v720H120Zm60-500h600v-160H180v160Zm220 220h160v-160H400v160Zm0 220h160v-160H400v160ZM180-400h160v-160H180v160Zm440 0h160v-160H620v160ZM180-180h160v-160H180v160Zm440 0h160v-160H620v160Z\"/>\n",
              "  </svg>\n",
              "    </button>\n",
              "\n",
              "  <style>\n",
              "    .colab-df-container {\n",
              "      display:flex;\n",
              "      gap: 12px;\n",
              "    }\n",
              "\n",
              "    .colab-df-convert {\n",
              "      background-color: #E8F0FE;\n",
              "      border: none;\n",
              "      border-radius: 50%;\n",
              "      cursor: pointer;\n",
              "      display: none;\n",
              "      fill: #1967D2;\n",
              "      height: 32px;\n",
              "      padding: 0 0 0 0;\n",
              "      width: 32px;\n",
              "    }\n",
              "\n",
              "    .colab-df-convert:hover {\n",
              "      background-color: #E2EBFA;\n",
              "      box-shadow: 0px 1px 2px rgba(60, 64, 67, 0.3), 0px 1px 3px 1px rgba(60, 64, 67, 0.15);\n",
              "      fill: #174EA6;\n",
              "    }\n",
              "\n",
              "    .colab-df-buttons div {\n",
              "      margin-bottom: 4px;\n",
              "    }\n",
              "\n",
              "    [theme=dark] .colab-df-convert {\n",
              "      background-color: #3B4455;\n",
              "      fill: #D2E3FC;\n",
              "    }\n",
              "\n",
              "    [theme=dark] .colab-df-convert:hover {\n",
              "      background-color: #434B5C;\n",
              "      box-shadow: 0px 1px 3px 1px rgba(0, 0, 0, 0.15);\n",
              "      filter: drop-shadow(0px 1px 2px rgba(0, 0, 0, 0.3));\n",
              "      fill: #FFFFFF;\n",
              "    }\n",
              "  </style>\n",
              "\n",
              "    <script>\n",
              "      const buttonEl =\n",
              "        document.querySelector('#df-7395276f-9bfd-4f8e-9edb-1e30f8bd5aeb button.colab-df-convert');\n",
              "      buttonEl.style.display =\n",
              "        google.colab.kernel.accessAllowed ? 'block' : 'none';\n",
              "\n",
              "      async function convertToInteractive(key) {\n",
              "        const element = document.querySelector('#df-7395276f-9bfd-4f8e-9edb-1e30f8bd5aeb');\n",
              "        const dataTable =\n",
              "          await google.colab.kernel.invokeFunction('convertToInteractive',\n",
              "                                                    [key], {});\n",
              "        if (!dataTable) return;\n",
              "\n",
              "        const docLinkHtml = 'Like what you see? Visit the ' +\n",
              "          '<a target=\"_blank\" href=https://colab.research.google.com/notebooks/data_table.ipynb>data table notebook</a>'\n",
              "          + ' to learn more about interactive tables.';\n",
              "        element.innerHTML = '';\n",
              "        dataTable['output_type'] = 'display_data';\n",
              "        await google.colab.output.renderOutput(dataTable, element);\n",
              "        const docLink = document.createElement('div');\n",
              "        docLink.innerHTML = docLinkHtml;\n",
              "        element.appendChild(docLink);\n",
              "      }\n",
              "    </script>\n",
              "  </div>\n",
              "\n",
              "\n",
              "    <div id=\"df-c43d8f43-37ab-4e97-8f25-12d4de965e68\">\n",
              "      <button class=\"colab-df-quickchart\" onclick=\"quickchart('df-c43d8f43-37ab-4e97-8f25-12d4de965e68')\"\n",
              "                title=\"Suggest charts\"\n",
              "                style=\"display:none;\">\n",
              "\n",
              "<svg xmlns=\"http://www.w3.org/2000/svg\" height=\"24px\"viewBox=\"0 0 24 24\"\n",
              "     width=\"24px\">\n",
              "    <g>\n",
              "        <path d=\"M19 3H5c-1.1 0-2 .9-2 2v14c0 1.1.9 2 2 2h14c1.1 0 2-.9 2-2V5c0-1.1-.9-2-2-2zM9 17H7v-7h2v7zm4 0h-2V7h2v10zm4 0h-2v-4h2v4z\"/>\n",
              "    </g>\n",
              "</svg>\n",
              "      </button>\n",
              "\n",
              "<style>\n",
              "  .colab-df-quickchart {\n",
              "      --bg-color: #E8F0FE;\n",
              "      --fill-color: #1967D2;\n",
              "      --hover-bg-color: #E2EBFA;\n",
              "      --hover-fill-color: #174EA6;\n",
              "      --disabled-fill-color: #AAA;\n",
              "      --disabled-bg-color: #DDD;\n",
              "  }\n",
              "\n",
              "  [theme=dark] .colab-df-quickchart {\n",
              "      --bg-color: #3B4455;\n",
              "      --fill-color: #D2E3FC;\n",
              "      --hover-bg-color: #434B5C;\n",
              "      --hover-fill-color: #FFFFFF;\n",
              "      --disabled-bg-color: #3B4455;\n",
              "      --disabled-fill-color: #666;\n",
              "  }\n",
              "\n",
              "  .colab-df-quickchart {\n",
              "    background-color: var(--bg-color);\n",
              "    border: none;\n",
              "    border-radius: 50%;\n",
              "    cursor: pointer;\n",
              "    display: none;\n",
              "    fill: var(--fill-color);\n",
              "    height: 32px;\n",
              "    padding: 0;\n",
              "    width: 32px;\n",
              "  }\n",
              "\n",
              "  .colab-df-quickchart:hover {\n",
              "    background-color: var(--hover-bg-color);\n",
              "    box-shadow: 0 1px 2px rgba(60, 64, 67, 0.3), 0 1px 3px 1px rgba(60, 64, 67, 0.15);\n",
              "    fill: var(--button-hover-fill-color);\n",
              "  }\n",
              "\n",
              "  .colab-df-quickchart-complete:disabled,\n",
              "  .colab-df-quickchart-complete:disabled:hover {\n",
              "    background-color: var(--disabled-bg-color);\n",
              "    fill: var(--disabled-fill-color);\n",
              "    box-shadow: none;\n",
              "  }\n",
              "\n",
              "  .colab-df-spinner {\n",
              "    border: 2px solid var(--fill-color);\n",
              "    border-color: transparent;\n",
              "    border-bottom-color: var(--fill-color);\n",
              "    animation:\n",
              "      spin 1s steps(1) infinite;\n",
              "  }\n",
              "\n",
              "  @keyframes spin {\n",
              "    0% {\n",
              "      border-color: transparent;\n",
              "      border-bottom-color: var(--fill-color);\n",
              "      border-left-color: var(--fill-color);\n",
              "    }\n",
              "    20% {\n",
              "      border-color: transparent;\n",
              "      border-left-color: var(--fill-color);\n",
              "      border-top-color: var(--fill-color);\n",
              "    }\n",
              "    30% {\n",
              "      border-color: transparent;\n",
              "      border-left-color: var(--fill-color);\n",
              "      border-top-color: var(--fill-color);\n",
              "      border-right-color: var(--fill-color);\n",
              "    }\n",
              "    40% {\n",
              "      border-color: transparent;\n",
              "      border-right-color: var(--fill-color);\n",
              "      border-top-color: var(--fill-color);\n",
              "    }\n",
              "    60% {\n",
              "      border-color: transparent;\n",
              "      border-right-color: var(--fill-color);\n",
              "    }\n",
              "    80% {\n",
              "      border-color: transparent;\n",
              "      border-right-color: var(--fill-color);\n",
              "      border-bottom-color: var(--fill-color);\n",
              "    }\n",
              "    90% {\n",
              "      border-color: transparent;\n",
              "      border-bottom-color: var(--fill-color);\n",
              "    }\n",
              "  }\n",
              "</style>\n",
              "\n",
              "      <script>\n",
              "        async function quickchart(key) {\n",
              "          const quickchartButtonEl =\n",
              "            document.querySelector('#' + key + ' button');\n",
              "          quickchartButtonEl.disabled = true;  // To prevent multiple clicks.\n",
              "          quickchartButtonEl.classList.add('colab-df-spinner');\n",
              "          try {\n",
              "            const charts = await google.colab.kernel.invokeFunction(\n",
              "                'suggestCharts', [key], {});\n",
              "          } catch (error) {\n",
              "            console.error('Error during call to suggestCharts:', error);\n",
              "          }\n",
              "          quickchartButtonEl.classList.remove('colab-df-spinner');\n",
              "          quickchartButtonEl.classList.add('colab-df-quickchart-complete');\n",
              "        }\n",
              "        (() => {\n",
              "          let quickchartButtonEl =\n",
              "            document.querySelector('#df-c43d8f43-37ab-4e97-8f25-12d4de965e68 button');\n",
              "          quickchartButtonEl.style.display =\n",
              "            google.colab.kernel.accessAllowed ? 'block' : 'none';\n",
              "        })();\n",
              "      </script>\n",
              "    </div>\n",
              "\n",
              "    </div>\n",
              "  </div>\n"
            ],
            "application/vnd.google.colaboratory.intrinsic+json": {
              "type": "dataframe",
              "variable_name": "df_snps",
              "summary": "{\n  \"name\": \"df_snps\",\n  \"rows\": 50,\n  \"fields\": [\n    {\n      \"column\": \"SNP_ID\",\n      \"properties\": {\n        \"dtype\": \"string\",\n        \"num_unique_values\": 50,\n        \"samples\": [\n          \"2552281431\",\n          \"2552280890\",\n          \"2552281043\"\n        ],\n        \"semantic_type\": \"\",\n        \"description\": \"\"\n      }\n    },\n    {\n      \"column\": \"SNP_CLASS\",\n      \"properties\": {\n        \"dtype\": \"category\",\n        \"num_unique_values\": 3,\n        \"samples\": [\n          \"snv\",\n          \"del\",\n          \"delins\"\n        ],\n        \"semantic_type\": \"\",\n        \"description\": \"\"\n      }\n    },\n    {\n      \"column\": \"CHRPOS\",\n      \"properties\": {\n        \"dtype\": \"string\",\n        \"num_unique_values\": 50,\n        \"samples\": [\n          \"17:43126366\",\n          \"17:43125551\",\n          \"17:43125726\"\n        ],\n        \"semantic_type\": \"\",\n        \"description\": \"\"\n      }\n    },\n    {\n      \"column\": \"FXN_CLASS\",\n      \"properties\": {\n        \"dtype\": \"category\",\n        \"num_unique_values\": 4,\n        \"samples\": [\n          \"splice_donor_variant,upstream_transcript_variant,2KB_upstream_variant\",\n          \"upstream_transcript_variant,2KB_upstream_variant\",\n          \"upstream_transcript_variant,2KB_upstream_variant,intron_variant\"\n        ],\n        \"semantic_type\": \"\",\n        \"description\": \"\"\n      }\n    }\n  ]\n}"
            }
          },
          "metadata": {},
          "execution_count": 21
        }
      ]
    },
    {
      "cell_type": "markdown",
      "source": [
        "## 🧬 4. Clasificar SNPs por tipo (SNP_CLASS)"
      ],
      "metadata": {
        "id": "L59yTXYWfEv-"
      },
      "id": "L59yTXYWfEv-"
    },
    {
      "cell_type": "code",
      "source": [
        "print(\"🧬 Distribución de clases de SNPs:\")\n",
        "snp_class_counts = df_snps[\"SNP_CLASS\"].value_counts()\n",
        "print(snp_class_counts)\n",
        "\n",
        "# Definir una lista de colores (asegúrate de que haya suficientes colores para todas las clases)\n",
        "colors = ['skyblue', 'lightcoral', 'lightgreen', 'gold', 'orchid']\n",
        "\n",
        "# Visualización\n",
        "snp_class_counts.plot(kind='bar', title='Distribución de clases de SNPs', color=colors)\n",
        "plt.xlabel(\"Clase de SNP\")\n",
        "plt.ylabel(\"Cantidad\")\n",
        "plt.tight_layout()\n",
        "plt.show()"
      ],
      "metadata": {
        "colab": {
          "base_uri": "https://localhost:8080/",
          "height": 591
        },
        "id": "MCS_eUwpdvnq",
        "outputId": "37f319ef-b488-4a90-9fde-5841eb24dc85"
      },
      "id": "MCS_eUwpdvnq",
      "execution_count": 22,
      "outputs": [
        {
          "output_type": "stream",
          "name": "stdout",
          "text": [
            "🧬 Distribución de clases de SNPs:\n",
            "SNP_CLASS\n",
            "snv       41\n",
            "delins     5\n",
            "del        4\n",
            "Name: count, dtype: int64\n"
          ]
        },
        {
          "output_type": "display_data",
          "data": {
            "text/plain": [
              "<Figure size 640x480 with 1 Axes>"
            ],
            "image/png": "[encoded data removed]"
          },
          "metadata": {}
        }
      ]
    },
    {
      "cell_type": "markdown",
      "source": [
        "## 🔬 5. Analizar la función genética (FXN_CLASS)"
      ],
      "metadata": {
        "id": "9QpYtoMVfHy2"
      },
      "id": "9QpYtoMVfHy2"
    },
    {
      "cell_type": "code",
      "source": [
        "\n",
        "print(\"🔬 Clases funcionales de SNPs:\")\n",
        "fxn_counts = df_snps[\"FXN_CLASS\"].str.split(\",\").explode().value_counts()\n",
        "print(fxn_counts)\n",
        "\n",
        "colors = ['purple', 'gold', 'green','skyblue','lightcoral']\n",
        "\n",
        "# Visualización\n",
        "fxn_counts.plot(kind='barh', title='Distribución de clases funcionales', color=colors)\n",
        "plt.xlabel(\"Cantidad\")\n",
        "plt.ylabel(\"Clase funcional\")\n",
        "plt.tight_layout()\n",
        "plt.show()\n"
      ],
      "metadata": {
        "colab": {
          "base_uri": "https://localhost:8080/",
          "height": 626
        },
        "id": "9SLlJSd-fKxK",
        "outputId": "616be9eb-bda9-4985-981d-650fc7f9599e"
      },
      "id": "9SLlJSd-fKxK",
      "execution_count": 24,
      "outputs": [
        {
          "output_type": "stream",
          "name": "stdout",
          "text": [
            "🔬 Clases funcionales de SNPs:\n",
            "FXN_CLASS\n",
            "upstream_transcript_variant      50\n",
            "2KB_upstream_variant             50\n",
            "intron_variant                   29\n",
            "non_coding_transcript_variant     8\n",
            "splice_donor_variant              1\n",
            "Name: count, dtype: int64\n"
          ]
        },
        {
          "output_type": "display_data",
          "data": {
            "text/plain": [
              "<Figure size 640x480 with 1 Axes>"
            ],
            "image/png": "[encoded data removed]"
          },
          "metadata": {}
        }
      ]
    },
    {
      "cell_type": "markdown",
      "source": [
        "## 🧭 6. Filtrar SNPs en regiones específicas (upstream)"
      ],
      "metadata": {
        "id": "IqOa-_EgfZJM"
      },
      "id": "IqOa-_EgfZJM"
    },
    {
      "cell_type": "code",
      "source": [
        "\n",
        "print(\"🧭 SNPs en regiones upstream:\")\n",
        "upstream_snps = df_snps[df_snps[\"FXN_CLASS\"].str.contains(\"upstream\", case=False, na=False)]\n",
        "print(upstream_snps)\n"
      ],
      "metadata": {
        "colab": {
          "base_uri": "https://localhost:8080/"
        },
        "id": "K1JDeu1yfayM",
        "outputId": "707abe15-712a-416f-b7fd-6cafca69a045"
      },
      "id": "K1JDeu1yfayM",
      "execution_count": 25,
      "outputs": [
        {
          "output_type": "stream",
          "name": "stdout",
          "text": [
            "🧭 SNPs en regiones upstream:\n",
            "        SNP_ID SNP_CLASS       CHRPOS  \\\n",
            "0   2552282559       snv  17:43127349   \n",
            "1   2552281972       snv  17:43127232   \n",
            "2   2552281880       del  17:43127053   \n",
            "3   2552281808       snv  17:43126996   \n",
            "4   2552281780       snv  17:43126982   \n",
            "5   2552281763       snv  17:43126949   \n",
            "6   2552281739       snv  17:43126883   \n",
            "7   2552281738    delins  17:43126881   \n",
            "8   2552281728    delins  17:43126843   \n",
            "9   2552281725       snv  17:43126831   \n",
            "10  2552281715       snv  17:43126813   \n",
            "11  2552281691       snv  17:43126774   \n",
            "12  2552281468       snv  17:43126469   \n",
            "13  2552281431       snv  17:43126366   \n",
            "14  2552281423       snv  17:43126332   \n",
            "15  2552281410       snv  17:43126273   \n",
            "16  2552281409    delins  17:43126271   \n",
            "17  2552281374       snv  17:43126197   \n",
            "18  2552281365       snv  17:43126177   \n",
            "19  2552281348       snv  17:43126156   \n",
            "20  2552281315       snv  17:43126097   \n",
            "21  2552281298       snv  17:43126040   \n",
            "22  2552281296       snv  17:43126038   \n",
            "23  2552281235       snv  17:43125975   \n",
            "24  2552281223       snv  17:43125957   \n",
            "25  2552281215    delins  17:43125936   \n",
            "26  2552281183       del  17:43125880   \n",
            "27  2552281158       del  17:43125843   \n",
            "28  2552281116       snv  17:43125802   \n",
            "29  2552281083       snv  17:43125771   \n",
            "30  2552281043       snv  17:43125726   \n",
            "31  2552281000       snv  17:43125648   \n",
            "32  2552280993       snv  17:43125635   \n",
            "33  2552280950       snv  17:43125609   \n",
            "34  2552280942       snv  17:43125598   \n",
            "35  2552280930       snv  17:43125591   \n",
            "36  2552280920       snv  17:43125569   \n",
            "37  2552280908    delins  17:43125558   \n",
            "38  2552280895       snv  17:43125556   \n",
            "39  2552280890       snv  17:43125551   \n",
            "40  2552280883       snv  17:43125550   \n",
            "41  2552280863       snv  17:43125538   \n",
            "42  2552280857       snv  17:43125532   \n",
            "43  2552280819       snv  17:43125510   \n",
            "44  2552280806       snv  17:43125498   \n",
            "45  2552280777       snv  17:43125476   \n",
            "46  2552280737       snv  17:43125451   \n",
            "47  2552280703       snv  17:43125423   \n",
            "48  2552280690       snv  17:43125413   \n",
            "49  2552280655       del  17:43125381   \n",
            "\n",
            "                                            FXN_CLASS  \n",
            "0   upstream_transcript_variant,2KB_upstream_varia...  \n",
            "1   upstream_transcript_variant,2KB_upstream_varia...  \n",
            "2   upstream_transcript_variant,2KB_upstream_varia...  \n",
            "3   upstream_transcript_variant,2KB_upstream_varia...  \n",
            "4   upstream_transcript_variant,2KB_upstream_varia...  \n",
            "5   upstream_transcript_variant,2KB_upstream_varia...  \n",
            "6   upstream_transcript_variant,2KB_upstream_varia...  \n",
            "7   upstream_transcript_variant,2KB_upstream_varia...  \n",
            "8   upstream_transcript_variant,2KB_upstream_varia...  \n",
            "9   upstream_transcript_variant,2KB_upstream_varia...  \n",
            "10  upstream_transcript_variant,2KB_upstream_varia...  \n",
            "11  upstream_transcript_variant,2KB_upstream_varia...  \n",
            "12  upstream_transcript_variant,2KB_upstream_varia...  \n",
            "13  upstream_transcript_variant,2KB_upstream_varia...  \n",
            "14  upstream_transcript_variant,2KB_upstream_varia...  \n",
            "15  upstream_transcript_variant,2KB_upstream_varia...  \n",
            "16  upstream_transcript_variant,2KB_upstream_varia...  \n",
            "17  upstream_transcript_variant,2KB_upstream_varia...  \n",
            "18  upstream_transcript_variant,2KB_upstream_varia...  \n",
            "19  upstream_transcript_variant,2KB_upstream_varia...  \n",
            "20  upstream_transcript_variant,2KB_upstream_varia...  \n",
            "21  upstream_transcript_variant,2KB_upstream_varia...  \n",
            "22  upstream_transcript_variant,2KB_upstream_varia...  \n",
            "23  upstream_transcript_variant,2KB_upstream_varia...  \n",
            "24  upstream_transcript_variant,2KB_upstream_varia...  \n",
            "25  upstream_transcript_variant,2KB_upstream_varia...  \n",
            "26  upstream_transcript_variant,2KB_upstream_varia...  \n",
            "27  upstream_transcript_variant,2KB_upstream_varia...  \n",
            "28  upstream_transcript_variant,2KB_upstream_varia...  \n",
            "29  splice_donor_variant,upstream_transcript_varia...  \n",
            "30  upstream_transcript_variant,2KB_upstream_varia...  \n",
            "31  upstream_transcript_variant,2KB_upstream_varia...  \n",
            "32  upstream_transcript_variant,2KB_upstream_varia...  \n",
            "33  upstream_transcript_variant,2KB_upstream_varia...  \n",
            "34  upstream_transcript_variant,2KB_upstream_varia...  \n",
            "35  upstream_transcript_variant,2KB_upstream_varia...  \n",
            "36  upstream_transcript_variant,2KB_upstream_varia...  \n",
            "37  upstream_transcript_variant,2KB_upstream_varia...  \n",
            "38   upstream_transcript_variant,2KB_upstream_variant  \n",
            "39   upstream_transcript_variant,2KB_upstream_variant  \n",
            "40   upstream_transcript_variant,2KB_upstream_variant  \n",
            "41   upstream_transcript_variant,2KB_upstream_variant  \n",
            "42   upstream_transcript_variant,2KB_upstream_variant  \n",
            "43   upstream_transcript_variant,2KB_upstream_variant  \n",
            "44   upstream_transcript_variant,2KB_upstream_variant  \n",
            "45   upstream_transcript_variant,2KB_upstream_variant  \n",
            "46   upstream_transcript_variant,2KB_upstream_variant  \n",
            "47   upstream_transcript_variant,2KB_upstream_variant  \n",
            "48   upstream_transcript_variant,2KB_upstream_variant  \n",
            "49   upstream_transcript_variant,2KB_upstream_variant  \n"
          ]
        }
      ]
    },
    {
      "cell_type": "markdown",
      "id": "9686b041",
      "metadata": {
        "id": "9686b041"
      },
      "source": [
        "\n",
        "## 🧠 7. Preguntas de interpretación\n",
        "- ¿Qué implicaciones evolutivas puede tener la presencia de SNPs en regiones upstream o intrónicas?\n",
        "\n",
        "Al ubicarse en regiones que no se expresan podrían evadir fuerzas evolutivas y pasar de generación en generación de manera \"silenciosa\". De esta manera su precencia podría servir como un marcador para contrastar el paso del tiempo entre organismos.\n",
        "\n",
        "- ¿Qué tipos de variantes esperarías encontrar en regiones codificantes vs. no codificantes?\n",
        "\n",
        "\n",
        "- ¿Qué importancia tiene que varios SNPs estén agrupados en una misma región cromosómica? ¿Podría indicar un hotspot de variación?\n"
      ]
    }
  ],
  "metadata": {
    "colab": {
      "provenance": [],
      "include_colab_link": true
    },
    "language_info": {
      "name": "python"
    },
    "kernelspec": {
      "name": "python3",
      "display_name": "Python 3"
    }
  },
  "nbformat": 4,
  "nbformat_minor": 5
}